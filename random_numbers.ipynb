{
 "cells": [
  {
   "cell_type": "code",
   "execution_count": 1,
   "id": "4cc82fbf",
   "metadata": {},
   "outputs": [],
   "source": [
    "# Import the random module.\n",
    "import random\n"
   ]
  },
  {
   "cell_type": "code",
   "execution_count": 6,
   "id": "e09335d6",
   "metadata": {},
   "outputs": [
    {
     "data": {
      "text/plain": [
       "-71"
      ]
     },
     "execution_count": 6,
     "metadata": {},
     "output_type": "execute_result"
    }
   ],
   "source": [
    "random.randint(-90,90)\n"
   ]
  },
  {
   "cell_type": "code",
   "execution_count": 14,
   "id": "3ce8d396",
   "metadata": {},
   "outputs": [
    {
     "data": {
      "text/plain": [
       "0.9339448830315781"
      ]
     },
     "execution_count": 14,
     "metadata": {},
     "output_type": "execute_result"
    }
   ],
   "source": [
    "random.random()\n"
   ]
  },
  {
   "cell_type": "code",
   "execution_count": 25,
   "id": "d1d7680c",
   "metadata": {},
   "outputs": [
    {
     "data": {
      "text/plain": [
       "-42.86003642247566"
      ]
     },
     "execution_count": 25,
     "metadata": {},
     "output_type": "execute_result"
    }
   ],
   "source": [
    "random_number = random.randint(-90,89) + random.random()\n",
    "random_number\n"
   ]
  },
  {
   "cell_type": "code",
   "execution_count": 29,
   "id": "1d32b728",
   "metadata": {},
   "outputs": [
    {
     "data": {
      "text/plain": [
       "[20.43478259255775,\n",
       " -13.188061380914213,\n",
       " 77.09070745725963,\n",
       " -59.604890887862204,\n",
       " 84.34002247113804,\n",
       " -12.921343753891074,\n",
       " -39.282419081217206,\n",
       " 2.8130540311945293,\n",
       " -51.89331926620731,\n",
       " 3.5903801887160487]"
      ]
     },
     "execution_count": 29,
     "metadata": {},
     "output_type": "execute_result"
    }
   ],
   "source": [
    "x = 1\n",
    "latitudes = []\n",
    "while x < 11:\n",
    "    random_lat = random.randint(-90, 89) + random.random()\n",
    "    latitudes.append(random_lat)\n",
    "    x += 1\n",
    "\n",
    "latitudes\n"
   ]
  },
  {
   "cell_type": "code",
   "execution_count": 39,
   "id": "86c5d7cc",
   "metadata": {},
   "outputs": [
    {
     "data": {
      "text/plain": [
       "-61"
      ]
     },
     "execution_count": 39,
     "metadata": {},
     "output_type": "execute_result"
    }
   ],
   "source": [
    "random.randrange(-90, 90, step=1)"
   ]
  },
  {
   "cell_type": "code",
   "execution_count": 54,
   "id": "0b5cd9e2",
   "metadata": {},
   "outputs": [
    {
     "data": {
      "text/plain": [
       "-3"
      ]
     },
     "execution_count": 54,
     "metadata": {},
     "output_type": "execute_result"
    }
   ],
   "source": [
    "random.randrange(-90, 90, step = 3)"
   ]
  },
  {
   "cell_type": "code",
   "execution_count": 55,
   "id": "5ea3bee2",
   "metadata": {},
   "outputs": [
    {
     "data": {
      "text/plain": [
       "20.134229366423227"
      ]
     },
     "execution_count": 55,
     "metadata": {},
     "output_type": "execute_result"
    }
   ],
   "source": [
    "random.uniform(-90, 90)"
   ]
  },
  {
   "cell_type": "code",
   "execution_count": 56,
   "id": "b13fc335",
   "metadata": {},
   "outputs": [],
   "source": [
    "# Import the NumPy module.\n",
    "import numpy as np\n"
   ]
  },
  {
   "cell_type": "code",
   "execution_count": 69,
   "id": "9d15586a",
   "metadata": {},
   "outputs": [
    {
     "data": {
      "text/plain": [
       "18.83486988340242"
      ]
     },
     "execution_count": 69,
     "metadata": {},
     "output_type": "execute_result"
    }
   ],
   "source": [
    "np.random.uniform(-90.000, 90.000)\n"
   ]
  },
  {
   "cell_type": "code",
   "execution_count": 70,
   "id": "bda71b19",
   "metadata": {},
   "outputs": [
    {
     "data": {
      "text/plain": [
       "21.379712555175487"
      ]
     },
     "execution_count": 70,
     "metadata": {},
     "output_type": "execute_result"
    }
   ],
   "source": [
    "np.random.uniform(low=-90, high=90)"
   ]
  },
  {
   "cell_type": "code",
   "execution_count": 82,
   "id": "cb728333",
   "metadata": {},
   "outputs": [
    {
     "data": {
      "text/plain": [
       "array([ 58.7411289 , -23.66813665,  43.79348756,  76.6104813 ,\n",
       "       -44.55652153,  68.49043057, -17.25820404, -63.71851175,\n",
       "       -22.89283381,  42.10525299,  -8.75302366, -31.74657265,\n",
       "       -76.22938632, -12.06250067, -15.78112081, -68.3039518 ,\n",
       "       -35.24162928, -48.56977729,  13.89825874,  26.02981747,\n",
       "        14.35730443,  17.71734697,  39.90545761, -11.42686536,\n",
       "        14.49951252,  76.09609753, -84.27460175,  72.71597573,\n",
       "        58.20237208,  66.12119817,   1.27548991, -55.36530882,\n",
       "       -28.00787201,  11.56836019,  44.37320352,  76.35365469,\n",
       "        86.17817509,  29.881035  ,  20.68558598,  -7.3918615 ,\n",
       "        54.46161076,  18.50955994,  57.63347929,  65.31335849,\n",
       "        -5.24969566,  -7.72805775,  71.08214483,  77.36712836,\n",
       "        14.81806412, -88.2411627 ])"
      ]
     },
     "execution_count": 82,
     "metadata": {},
     "output_type": "execute_result"
    }
   ],
   "source": [
    "np.random.uniform(-90.000, 90.000, size=50)\n"
   ]
  },
  {
   "cell_type": "code",
   "execution_count": 83,
   "id": "386964c9",
   "metadata": {},
   "outputs": [],
   "source": [
    "# Import timeit.\n",
    "import timeit"
   ]
  },
  {
   "cell_type": "code",
   "execution_count": 89,
   "id": "142fb028",
   "metadata": {},
   "outputs": [
    {
     "name": "stdout",
     "output_type": "stream",
     "text": [
      "3.32 µs ± 35 ns per loop (mean ± std. dev. of 7 runs, 100000 loops each)\n"
     ]
    }
   ],
   "source": [
    "%timeit np.random.uniform(-90.000, 90.000, size=50)\n"
   ]
  },
  {
   "cell_type": "code",
   "execution_count": 90,
   "id": "4d7d6733",
   "metadata": {},
   "outputs": [
    {
     "name": "stdout",
     "output_type": "stream",
     "text": [
      "1.99 ms ± 18.4 µs per loop (mean ± std. dev. of 7 runs, 1000 loops each)\n"
     ]
    }
   ],
   "source": [
    "def latitudes(size):\n",
    "    latitudes = []\n",
    "    x=0\n",
    "    while x < (size):\n",
    "        random_lat = random.randint(-90, 90) + random.random()\n",
    "        latitudes.append(random_lat)\n",
    "        x += 1\n",
    "    return latitudes\n",
    "\n",
    "# Call the function with 1500\n",
    "\n",
    "%timeit latitudes(1500)"
   ]
  },
  {
   "cell_type": "code",
   "execution_count": null,
   "id": "85b5b57c",
   "metadata": {},
   "outputs": [],
   "source": [
    "# Refactor the code for the while loop with the %timeit magic command and \n",
    "# write a for loop that will generate the 1,500 latitudes.\n",
    "\n"
   ]
  }
 ],
 "metadata": {
  "kernelspec": {
   "display_name": "PythonData",
   "language": "python",
   "name": "pythondata"
  },
  "language_info": {
   "codemirror_mode": {
    "name": "ipython",
    "version": 3
   },
   "file_extension": ".py",
   "mimetype": "text/x-python",
   "name": "python",
   "nbconvert_exporter": "python",
   "pygments_lexer": "ipython3",
   "version": "3.7.13"
  }
 },
 "nbformat": 4,
 "nbformat_minor": 5
}
